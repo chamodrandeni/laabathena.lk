{
  "nbformat": 4,
  "nbformat_minor": 0,
  "metadata": {
    "colab": {
      "provenance": [],
      "collapsed_sections": []
    },
    "kernelspec": {
      "name": "python3",
      "display_name": "Python 3"
    },
    "language_info": {
      "name": "python"
    }
  },
  "cells": [
    {
      "cell_type": "code",
      "execution_count": 1,
      "metadata": {
        "id": "se2cQJUl6tNk"
      },
      "outputs": [],
      "source": [
        "import numpy as np\n",
        "import pandas as pd\n",
        "import matplotlib.pyplot as plt\n",
        "import seaborn as sns\n",
        "from sklearn.model_selection import train_test_split\n",
        "from sklearn.ensemble import RandomForestRegressor\n",
        "from sklearn import metrics"
      ]
    },
    {
      "cell_type": "code",
      "source": [
        "car = pd.read_csv('/content/car price .csv')"
      ],
      "metadata": {
        "id": "ny_XbKgK63Kj"
      },
      "execution_count": 2,
      "outputs": []
    },
    {
      "cell_type": "code",
      "source": [
        "car.head()"
      ],
      "metadata": {
        "colab": {
          "base_uri": "https://localhost:8080/",
          "height": 267
        },
        "id": "Q8Cad-r77Hkl",
        "outputId": "cd8008ae-af77-4616-b635-85fa32ca3427"
      },
      "execution_count": 3,
      "outputs": [
        {
          "output_type": "execute_result",
          "data": {
            "text/plain": [
              "            Model    Price  Year Transmission       Body    Fuel  Capacity  \\\n",
              "0  Hyundai Tucson  7900000  2011    Automatic  SUV / 4x4  Petrol      2000   \n",
              "1    Toyota Prius  7225000  2013    Automatic     Saloon  Hybrid      1800   \n",
              "2     Suzuki Alto  2895000  2015       Manual  Hatchback  Petrol       800   \n",
              "3     Micro Panda  2475000  2016       Manual  Hatchback  Petrol      1000   \n",
              "4     Toyota Vitz  4850000  2008    Automatic  Hatchback  Petrol      1000   \n",
              "\n",
              "   Mileage  Fuel_Price  USD_rate  Crude_Oil_Price  \n",
              "0    92000         450    366.39       32916.4776  \n",
              "1    91000         450    366.39       32916.4776  \n",
              "2   110000         450    366.39       32916.4776  \n",
              "3    72000         450    366.39       32916.4776  \n",
              "4    89700         450    366.39       32916.4776  "
            ],
            "text/html": [
              "\n",
              "  <div id=\"df-1bd780a8-a728-41ee-aa7e-f5169ab967b9\">\n",
              "    <div class=\"colab-df-container\">\n",
              "      <div>\n",
              "<style scoped>\n",
              "    .dataframe tbody tr th:only-of-type {\n",
              "        vertical-align: middle;\n",
              "    }\n",
              "\n",
              "    .dataframe tbody tr th {\n",
              "        vertical-align: top;\n",
              "    }\n",
              "\n",
              "    .dataframe thead th {\n",
              "        text-align: right;\n",
              "    }\n",
              "</style>\n",
              "<table border=\"1\" class=\"dataframe\">\n",
              "  <thead>\n",
              "    <tr style=\"text-align: right;\">\n",
              "      <th></th>\n",
              "      <th>Model</th>\n",
              "      <th>Price</th>\n",
              "      <th>Year</th>\n",
              "      <th>Transmission</th>\n",
              "      <th>Body</th>\n",
              "      <th>Fuel</th>\n",
              "      <th>Capacity</th>\n",
              "      <th>Mileage</th>\n",
              "      <th>Fuel_Price</th>\n",
              "      <th>USD_rate</th>\n",
              "      <th>Crude_Oil_Price</th>\n",
              "    </tr>\n",
              "  </thead>\n",
              "  <tbody>\n",
              "    <tr>\n",
              "      <th>0</th>\n",
              "      <td>Hyundai Tucson</td>\n",
              "      <td>7900000</td>\n",
              "      <td>2011</td>\n",
              "      <td>Automatic</td>\n",
              "      <td>SUV / 4x4</td>\n",
              "      <td>Petrol</td>\n",
              "      <td>2000</td>\n",
              "      <td>92000</td>\n",
              "      <td>450</td>\n",
              "      <td>366.39</td>\n",
              "      <td>32916.4776</td>\n",
              "    </tr>\n",
              "    <tr>\n",
              "      <th>1</th>\n",
              "      <td>Toyota Prius</td>\n",
              "      <td>7225000</td>\n",
              "      <td>2013</td>\n",
              "      <td>Automatic</td>\n",
              "      <td>Saloon</td>\n",
              "      <td>Hybrid</td>\n",
              "      <td>1800</td>\n",
              "      <td>91000</td>\n",
              "      <td>450</td>\n",
              "      <td>366.39</td>\n",
              "      <td>32916.4776</td>\n",
              "    </tr>\n",
              "    <tr>\n",
              "      <th>2</th>\n",
              "      <td>Suzuki Alto</td>\n",
              "      <td>2895000</td>\n",
              "      <td>2015</td>\n",
              "      <td>Manual</td>\n",
              "      <td>Hatchback</td>\n",
              "      <td>Petrol</td>\n",
              "      <td>800</td>\n",
              "      <td>110000</td>\n",
              "      <td>450</td>\n",
              "      <td>366.39</td>\n",
              "      <td>32916.4776</td>\n",
              "    </tr>\n",
              "    <tr>\n",
              "      <th>3</th>\n",
              "      <td>Micro Panda</td>\n",
              "      <td>2475000</td>\n",
              "      <td>2016</td>\n",
              "      <td>Manual</td>\n",
              "      <td>Hatchback</td>\n",
              "      <td>Petrol</td>\n",
              "      <td>1000</td>\n",
              "      <td>72000</td>\n",
              "      <td>450</td>\n",
              "      <td>366.39</td>\n",
              "      <td>32916.4776</td>\n",
              "    </tr>\n",
              "    <tr>\n",
              "      <th>4</th>\n",
              "      <td>Toyota Vitz</td>\n",
              "      <td>4850000</td>\n",
              "      <td>2008</td>\n",
              "      <td>Automatic</td>\n",
              "      <td>Hatchback</td>\n",
              "      <td>Petrol</td>\n",
              "      <td>1000</td>\n",
              "      <td>89700</td>\n",
              "      <td>450</td>\n",
              "      <td>366.39</td>\n",
              "      <td>32916.4776</td>\n",
              "    </tr>\n",
              "  </tbody>\n",
              "</table>\n",
              "</div>\n",
              "      <button class=\"colab-df-convert\" onclick=\"convertToInteractive('df-1bd780a8-a728-41ee-aa7e-f5169ab967b9')\"\n",
              "              title=\"Convert this dataframe to an interactive table.\"\n",
              "              style=\"display:none;\">\n",
              "        \n",
              "  <svg xmlns=\"http://www.w3.org/2000/svg\" height=\"24px\"viewBox=\"0 0 24 24\"\n",
              "       width=\"24px\">\n",
              "    <path d=\"M0 0h24v24H0V0z\" fill=\"none\"/>\n",
              "    <path d=\"M18.56 5.44l.94 2.06.94-2.06 2.06-.94-2.06-.94-.94-2.06-.94 2.06-2.06.94zm-11 1L8.5 8.5l.94-2.06 2.06-.94-2.06-.94L8.5 2.5l-.94 2.06-2.06.94zm10 10l.94 2.06.94-2.06 2.06-.94-2.06-.94-.94-2.06-.94 2.06-2.06.94z\"/><path d=\"M17.41 7.96l-1.37-1.37c-.4-.4-.92-.59-1.43-.59-.52 0-1.04.2-1.43.59L10.3 9.45l-7.72 7.72c-.78.78-.78 2.05 0 2.83L4 21.41c.39.39.9.59 1.41.59.51 0 1.02-.2 1.41-.59l7.78-7.78 2.81-2.81c.8-.78.8-2.07 0-2.86zM5.41 20L4 18.59l7.72-7.72 1.47 1.35L5.41 20z\"/>\n",
              "  </svg>\n",
              "      </button>\n",
              "      \n",
              "  <style>\n",
              "    .colab-df-container {\n",
              "      display:flex;\n",
              "      flex-wrap:wrap;\n",
              "      gap: 12px;\n",
              "    }\n",
              "\n",
              "    .colab-df-convert {\n",
              "      background-color: #E8F0FE;\n",
              "      border: none;\n",
              "      border-radius: 50%;\n",
              "      cursor: pointer;\n",
              "      display: none;\n",
              "      fill: #1967D2;\n",
              "      height: 32px;\n",
              "      padding: 0 0 0 0;\n",
              "      width: 32px;\n",
              "    }\n",
              "\n",
              "    .colab-df-convert:hover {\n",
              "      background-color: #E2EBFA;\n",
              "      box-shadow: 0px 1px 2px rgba(60, 64, 67, 0.3), 0px 1px 3px 1px rgba(60, 64, 67, 0.15);\n",
              "      fill: #174EA6;\n",
              "    }\n",
              "\n",
              "    [theme=dark] .colab-df-convert {\n",
              "      background-color: #3B4455;\n",
              "      fill: #D2E3FC;\n",
              "    }\n",
              "\n",
              "    [theme=dark] .colab-df-convert:hover {\n",
              "      background-color: #434B5C;\n",
              "      box-shadow: 0px 1px 3px 1px rgba(0, 0, 0, 0.15);\n",
              "      filter: drop-shadow(0px 1px 2px rgba(0, 0, 0, 0.3));\n",
              "      fill: #FFFFFF;\n",
              "    }\n",
              "  </style>\n",
              "\n",
              "      <script>\n",
              "        const buttonEl =\n",
              "          document.querySelector('#df-1bd780a8-a728-41ee-aa7e-f5169ab967b9 button.colab-df-convert');\n",
              "        buttonEl.style.display =\n",
              "          google.colab.kernel.accessAllowed ? 'block' : 'none';\n",
              "\n",
              "        async function convertToInteractive(key) {\n",
              "          const element = document.querySelector('#df-1bd780a8-a728-41ee-aa7e-f5169ab967b9');\n",
              "          const dataTable =\n",
              "            await google.colab.kernel.invokeFunction('convertToInteractive',\n",
              "                                                     [key], {});\n",
              "          if (!dataTable) return;\n",
              "\n",
              "          const docLinkHtml = 'Like what you see? Visit the ' +\n",
              "            '<a target=\"_blank\" href=https://colab.research.google.com/notebooks/data_table.ipynb>data table notebook</a>'\n",
              "            + ' to learn more about interactive tables.';\n",
              "          element.innerHTML = '';\n",
              "          dataTable['output_type'] = 'display_data';\n",
              "          await google.colab.output.renderOutput(dataTable, element);\n",
              "          const docLink = document.createElement('div');\n",
              "          docLink.innerHTML = docLinkHtml;\n",
              "          element.appendChild(docLink);\n",
              "        }\n",
              "      </script>\n",
              "    </div>\n",
              "  </div>\n",
              "  "
            ]
          },
          "metadata": {},
          "execution_count": 3
        }
      ]
    },
    {
      "cell_type": "code",
      "source": [
        "car.tail()"
      ],
      "metadata": {
        "colab": {
          "base_uri": "https://localhost:8080/",
          "height": 391
        },
        "id": "BMZxZqSN7NXA",
        "outputId": "76f7a86a-90f6-4f43-f0a3-8c4e2536eaf4"
      },
      "execution_count": 4,
      "outputs": [
        {
          "output_type": "execute_result",
          "data": {
            "text/plain": [
              "                           Model     Price  Year Transmission       Body  \\\n",
              "16297               Nissan Sunny   3400000  2000    Automatic     Saloon   \n",
              "16298                Kia Picanto   4590000  2016    Automatic  Hatchback   \n",
              "16299              Toyota Allion  15300000  2017    Automatic     Saloon   \n",
              "16300  Toyota Land Cruiser Prado  14000000  2007       Manual  SUV / 4x4   \n",
              "16301                Toyota Axio   6650000  2010    Automatic     Saloon   \n",
              "\n",
              "         Fuel  Capacity  Mileage  Fuel_Price  USD_rate  Crude_Oil_Price  \n",
              "16297  Petrol      1500   155000         177    202.91       16299.7603  \n",
              "16298  Petrol      1000    41833         177    202.91       16299.7603  \n",
              "16299  Petrol      1500    12000         177    202.91       16299.7603  \n",
              "16300  Diesel      4200   111000         121    202.91       16299.7603  \n",
              "16301  Petrol      1499    90000         177    202.91       16299.7603  "
            ],
            "text/html": [
              "\n",
              "  <div id=\"df-ec20155a-0959-4881-80b3-940a0300fc80\">\n",
              "    <div class=\"colab-df-container\">\n",
              "      <div>\n",
              "<style scoped>\n",
              "    .dataframe tbody tr th:only-of-type {\n",
              "        vertical-align: middle;\n",
              "    }\n",
              "\n",
              "    .dataframe tbody tr th {\n",
              "        vertical-align: top;\n",
              "    }\n",
              "\n",
              "    .dataframe thead th {\n",
              "        text-align: right;\n",
              "    }\n",
              "</style>\n",
              "<table border=\"1\" class=\"dataframe\">\n",
              "  <thead>\n",
              "    <tr style=\"text-align: right;\">\n",
              "      <th></th>\n",
              "      <th>Model</th>\n",
              "      <th>Price</th>\n",
              "      <th>Year</th>\n",
              "      <th>Transmission</th>\n",
              "      <th>Body</th>\n",
              "      <th>Fuel</th>\n",
              "      <th>Capacity</th>\n",
              "      <th>Mileage</th>\n",
              "      <th>Fuel_Price</th>\n",
              "      <th>USD_rate</th>\n",
              "      <th>Crude_Oil_Price</th>\n",
              "    </tr>\n",
              "  </thead>\n",
              "  <tbody>\n",
              "    <tr>\n",
              "      <th>16297</th>\n",
              "      <td>Nissan Sunny</td>\n",
              "      <td>3400000</td>\n",
              "      <td>2000</td>\n",
              "      <td>Automatic</td>\n",
              "      <td>Saloon</td>\n",
              "      <td>Petrol</td>\n",
              "      <td>1500</td>\n",
              "      <td>155000</td>\n",
              "      <td>177</td>\n",
              "      <td>202.91</td>\n",
              "      <td>16299.7603</td>\n",
              "    </tr>\n",
              "    <tr>\n",
              "      <th>16298</th>\n",
              "      <td>Kia Picanto</td>\n",
              "      <td>4590000</td>\n",
              "      <td>2016</td>\n",
              "      <td>Automatic</td>\n",
              "      <td>Hatchback</td>\n",
              "      <td>Petrol</td>\n",
              "      <td>1000</td>\n",
              "      <td>41833</td>\n",
              "      <td>177</td>\n",
              "      <td>202.91</td>\n",
              "      <td>16299.7603</td>\n",
              "    </tr>\n",
              "    <tr>\n",
              "      <th>16299</th>\n",
              "      <td>Toyota Allion</td>\n",
              "      <td>15300000</td>\n",
              "      <td>2017</td>\n",
              "      <td>Automatic</td>\n",
              "      <td>Saloon</td>\n",
              "      <td>Petrol</td>\n",
              "      <td>1500</td>\n",
              "      <td>12000</td>\n",
              "      <td>177</td>\n",
              "      <td>202.91</td>\n",
              "      <td>16299.7603</td>\n",
              "    </tr>\n",
              "    <tr>\n",
              "      <th>16300</th>\n",
              "      <td>Toyota Land Cruiser Prado</td>\n",
              "      <td>14000000</td>\n",
              "      <td>2007</td>\n",
              "      <td>Manual</td>\n",
              "      <td>SUV / 4x4</td>\n",
              "      <td>Diesel</td>\n",
              "      <td>4200</td>\n",
              "      <td>111000</td>\n",
              "      <td>121</td>\n",
              "      <td>202.91</td>\n",
              "      <td>16299.7603</td>\n",
              "    </tr>\n",
              "    <tr>\n",
              "      <th>16301</th>\n",
              "      <td>Toyota Axio</td>\n",
              "      <td>6650000</td>\n",
              "      <td>2010</td>\n",
              "      <td>Automatic</td>\n",
              "      <td>Saloon</td>\n",
              "      <td>Petrol</td>\n",
              "      <td>1499</td>\n",
              "      <td>90000</td>\n",
              "      <td>177</td>\n",
              "      <td>202.91</td>\n",
              "      <td>16299.7603</td>\n",
              "    </tr>\n",
              "  </tbody>\n",
              "</table>\n",
              "</div>\n",
              "      <button class=\"colab-df-convert\" onclick=\"convertToInteractive('df-ec20155a-0959-4881-80b3-940a0300fc80')\"\n",
              "              title=\"Convert this dataframe to an interactive table.\"\n",
              "              style=\"display:none;\">\n",
              "        \n",
              "  <svg xmlns=\"http://www.w3.org/2000/svg\" height=\"24px\"viewBox=\"0 0 24 24\"\n",
              "       width=\"24px\">\n",
              "    <path d=\"M0 0h24v24H0V0z\" fill=\"none\"/>\n",
              "    <path d=\"M18.56 5.44l.94 2.06.94-2.06 2.06-.94-2.06-.94-.94-2.06-.94 2.06-2.06.94zm-11 1L8.5 8.5l.94-2.06 2.06-.94-2.06-.94L8.5 2.5l-.94 2.06-2.06.94zm10 10l.94 2.06.94-2.06 2.06-.94-2.06-.94-.94-2.06-.94 2.06-2.06.94z\"/><path d=\"M17.41 7.96l-1.37-1.37c-.4-.4-.92-.59-1.43-.59-.52 0-1.04.2-1.43.59L10.3 9.45l-7.72 7.72c-.78.78-.78 2.05 0 2.83L4 21.41c.39.39.9.59 1.41.59.51 0 1.02-.2 1.41-.59l7.78-7.78 2.81-2.81c.8-.78.8-2.07 0-2.86zM5.41 20L4 18.59l7.72-7.72 1.47 1.35L5.41 20z\"/>\n",
              "  </svg>\n",
              "      </button>\n",
              "      \n",
              "  <style>\n",
              "    .colab-df-container {\n",
              "      display:flex;\n",
              "      flex-wrap:wrap;\n",
              "      gap: 12px;\n",
              "    }\n",
              "\n",
              "    .colab-df-convert {\n",
              "      background-color: #E8F0FE;\n",
              "      border: none;\n",
              "      border-radius: 50%;\n",
              "      cursor: pointer;\n",
              "      display: none;\n",
              "      fill: #1967D2;\n",
              "      height: 32px;\n",
              "      padding: 0 0 0 0;\n",
              "      width: 32px;\n",
              "    }\n",
              "\n",
              "    .colab-df-convert:hover {\n",
              "      background-color: #E2EBFA;\n",
              "      box-shadow: 0px 1px 2px rgba(60, 64, 67, 0.3), 0px 1px 3px 1px rgba(60, 64, 67, 0.15);\n",
              "      fill: #174EA6;\n",
              "    }\n",
              "\n",
              "    [theme=dark] .colab-df-convert {\n",
              "      background-color: #3B4455;\n",
              "      fill: #D2E3FC;\n",
              "    }\n",
              "\n",
              "    [theme=dark] .colab-df-convert:hover {\n",
              "      background-color: #434B5C;\n",
              "      box-shadow: 0px 1px 3px 1px rgba(0, 0, 0, 0.15);\n",
              "      filter: drop-shadow(0px 1px 2px rgba(0, 0, 0, 0.3));\n",
              "      fill: #FFFFFF;\n",
              "    }\n",
              "  </style>\n",
              "\n",
              "      <script>\n",
              "        const buttonEl =\n",
              "          document.querySelector('#df-ec20155a-0959-4881-80b3-940a0300fc80 button.colab-df-convert');\n",
              "        buttonEl.style.display =\n",
              "          google.colab.kernel.accessAllowed ? 'block' : 'none';\n",
              "\n",
              "        async function convertToInteractive(key) {\n",
              "          const element = document.querySelector('#df-ec20155a-0959-4881-80b3-940a0300fc80');\n",
              "          const dataTable =\n",
              "            await google.colab.kernel.invokeFunction('convertToInteractive',\n",
              "                                                     [key], {});\n",
              "          if (!dataTable) return;\n",
              "\n",
              "          const docLinkHtml = 'Like what you see? Visit the ' +\n",
              "            '<a target=\"_blank\" href=https://colab.research.google.com/notebooks/data_table.ipynb>data table notebook</a>'\n",
              "            + ' to learn more about interactive tables.';\n",
              "          element.innerHTML = '';\n",
              "          dataTable['output_type'] = 'display_data';\n",
              "          await google.colab.output.renderOutput(dataTable, element);\n",
              "          const docLink = document.createElement('div');\n",
              "          docLink.innerHTML = docLinkHtml;\n",
              "          element.appendChild(docLink);\n",
              "        }\n",
              "      </script>\n",
              "    </div>\n",
              "  </div>\n",
              "  "
            ]
          },
          "metadata": {},
          "execution_count": 4
        }
      ]
    },
    {
      "cell_type": "code",
      "source": [
        "car.shape"
      ],
      "metadata": {
        "colab": {
          "base_uri": "https://localhost:8080/"
        },
        "id": "J579-Wvt7WSy",
        "outputId": "ffbc984d-eb4b-4011-bb07-28cf756740d8"
      },
      "execution_count": 5,
      "outputs": [
        {
          "output_type": "execute_result",
          "data": {
            "text/plain": [
              "(16302, 11)"
            ]
          },
          "metadata": {},
          "execution_count": 5
        }
      ]
    },
    {
      "cell_type": "code",
      "source": [
        "car.info()"
      ],
      "metadata": {
        "colab": {
          "base_uri": "https://localhost:8080/"
        },
        "id": "wk9kjljD7bo_",
        "outputId": "f3d5158c-3a02-447f-e37d-e4868a162008"
      },
      "execution_count": 6,
      "outputs": [
        {
          "output_type": "stream",
          "name": "stdout",
          "text": [
            "<class 'pandas.core.frame.DataFrame'>\n",
            "RangeIndex: 16302 entries, 0 to 16301\n",
            "Data columns (total 11 columns):\n",
            " #   Column           Non-Null Count  Dtype  \n",
            "---  ------           --------------  -----  \n",
            " 0   Model            16302 non-null  object \n",
            " 1   Price            16302 non-null  int64  \n",
            " 2   Year             16302 non-null  int64  \n",
            " 3   Transmission     16302 non-null  object \n",
            " 4   Body             16302 non-null  object \n",
            " 5   Fuel             16302 non-null  object \n",
            " 6   Capacity         16302 non-null  int64  \n",
            " 7   Mileage          16302 non-null  int64  \n",
            " 8   Fuel_Price       16302 non-null  int64  \n",
            " 9   USD_rate         16302 non-null  float64\n",
            " 10  Crude_Oil_Price  16302 non-null  float64\n",
            "dtypes: float64(2), int64(5), object(4)\n",
            "memory usage: 1.4+ MB\n"
          ]
        }
      ]
    },
    {
      "cell_type": "code",
      "source": [
        "car['Model'].value_counts()"
      ],
      "metadata": {
        "colab": {
          "base_uri": "https://localhost:8080/"
        },
        "id": "TS-JBlv38QgQ",
        "outputId": "348572a6-2f8c-4af0-d08e-c6da79a36583"
      },
      "execution_count": 7,
      "outputs": [
        {
          "output_type": "execute_result",
          "data": {
            "text/plain": [
              "Toyota Vitz           842\n",
              "Suzuki Alto           673\n",
              "Toyota Premio         555\n",
              "Toyota Aqua           550\n",
              "Toyota Axio           529\n",
              "                     ... \n",
              "BMW ActiveHybrid 7     16\n",
              "Suzuki Escudo          16\n",
              "Isuzu Gemini           16\n",
              "Nissan Presea          16\n",
              "Maruti Suzuki Zen      16\n",
              "Name: Model, Length: 168, dtype: int64"
            ]
          },
          "metadata": {},
          "execution_count": 7
        }
      ]
    },
    {
      "cell_type": "code",
      "source": [
        "car['Transmission'].value_counts()"
      ],
      "metadata": {
        "colab": {
          "base_uri": "https://localhost:8080/"
        },
        "id": "Sk4abBkr8Ssu",
        "outputId": "68da4173-4ede-4ed8-cfa4-cd41a63ae462"
      },
      "execution_count": 8,
      "outputs": [
        {
          "output_type": "execute_result",
          "data": {
            "text/plain": [
              "Automatic    12010\n",
              "Manual        3012\n",
              "Tiptronic     1280\n",
              "Name: Transmission, dtype: int64"
            ]
          },
          "metadata": {},
          "execution_count": 8
        }
      ]
    },
    {
      "cell_type": "code",
      "source": [
        "car['Body'].value_counts()"
      ],
      "metadata": {
        "colab": {
          "base_uri": "https://localhost:8080/"
        },
        "id": "chpmXpVp_FuG",
        "outputId": "8bb216e3-87d2-4c50-f08e-c5cb29e994e9"
      },
      "execution_count": 9,
      "outputs": [
        {
          "output_type": "execute_result",
          "data": {
            "text/plain": [
              "Hatchback    6829\n",
              "Saloon       5360\n",
              "SUV / 4x4    4113\n",
              "Name: Body, dtype: int64"
            ]
          },
          "metadata": {},
          "execution_count": 9
        }
      ]
    },
    {
      "cell_type": "code",
      "source": [
        "car['Fuel'].value_counts()"
      ],
      "metadata": {
        "colab": {
          "base_uri": "https://localhost:8080/"
        },
        "id": "AbO_vs7j8Wii",
        "outputId": "5a607ece-c389-471c-ffe1-298fafbda3ec"
      },
      "execution_count": 10,
      "outputs": [
        {
          "output_type": "execute_result",
          "data": {
            "text/plain": [
              "Petrol    11559\n",
              "Hybrid     2535\n",
              "Diesel     2208\n",
              "Name: Fuel, dtype: int64"
            ]
          },
          "metadata": {},
          "execution_count": 10
        }
      ]
    },
    {
      "cell_type": "code",
      "source": [
        "# Convert Categorical to numeric variable \n",
        "\n",
        "car['Model'] = pd.factorize(car.Model)[0]\n",
        "car['Transmission'] = pd.factorize(car.Transmission)[0]\n",
        "car['Body'] = pd.factorize(car.Body)[0]\n",
        "car['Fuel'] = pd.factorize(car.Fuel)[0]"
      ],
      "metadata": {
        "id": "gusdbzn-8d00"
      },
      "execution_count": 11,
      "outputs": []
    },
    {
      "cell_type": "code",
      "source": [
        "car['Model'].value_counts()"
      ],
      "metadata": {
        "colab": {
          "base_uri": "https://localhost:8080/"
        },
        "id": "yF30qaQ78jpF",
        "outputId": "78f4f932-4b78-46c9-e504-2a2a6d5fd250"
      },
      "execution_count": 12,
      "outputs": [
        {
          "output_type": "execute_result",
          "data": {
            "text/plain": [
              "4      842\n",
              "2      673\n",
              "24     555\n",
              "31     550\n",
              "20     529\n",
              "      ... \n",
              "163     16\n",
              "67      16\n",
              "165     16\n",
              "64      16\n",
              "167     16\n",
              "Name: Model, Length: 168, dtype: int64"
            ]
          },
          "metadata": {},
          "execution_count": 12
        }
      ]
    },
    {
      "cell_type": "code",
      "source": [
        "car['Transmission'].value_counts()\n",
        "\n",
        "#Automatic    12010\n",
        "#Manual        3012\n",
        "#Tiptronic     1280"
      ],
      "metadata": {
        "colab": {
          "base_uri": "https://localhost:8080/"
        },
        "id": "s6-5rEmY8n9R",
        "outputId": "58e76902-0d49-4631-dc70-f85904ef05d2"
      },
      "execution_count": 13,
      "outputs": [
        {
          "output_type": "execute_result",
          "data": {
            "text/plain": [
              "0    12010\n",
              "1     3012\n",
              "2     1280\n",
              "Name: Transmission, dtype: int64"
            ]
          },
          "metadata": {},
          "execution_count": 13
        }
      ]
    },
    {
      "cell_type": "code",
      "source": [
        "car['Body'].value_counts()\n",
        "\n",
        "#Hatchback    6829\n",
        "#Saloon       5360\n",
        "#SUV / 4x4    4113"
      ],
      "metadata": {
        "colab": {
          "base_uri": "https://localhost:8080/"
        },
        "id": "PN48VP6T_PWZ",
        "outputId": "cf8cc681-f171-4a08-8341-4f3ccbb78a70"
      },
      "execution_count": 14,
      "outputs": [
        {
          "output_type": "execute_result",
          "data": {
            "text/plain": [
              "2    6829\n",
              "1    5360\n",
              "0    4113\n",
              "Name: Body, dtype: int64"
            ]
          },
          "metadata": {},
          "execution_count": 14
        }
      ]
    },
    {
      "cell_type": "code",
      "source": [
        "car['Fuel'].value_counts()\n",
        "#Petrol    11559\n",
        "#Hybrid     2535\n",
        "#Diesel     2208"
      ],
      "metadata": {
        "colab": {
          "base_uri": "https://localhost:8080/"
        },
        "id": "qUgxXyVk8sQ-",
        "outputId": "3ca6f80c-4ea1-4d03-8f90-58f75dc9eb51"
      },
      "execution_count": 15,
      "outputs": [
        {
          "output_type": "execute_result",
          "data": {
            "text/plain": [
              "0    11559\n",
              "1     2535\n",
              "2     2208\n",
              "Name: Fuel, dtype: int64"
            ]
          },
          "metadata": {},
          "execution_count": 15
        }
      ]
    },
    {
      "cell_type": "code",
      "source": [
        "car.isnull().sum()"
      ],
      "metadata": {
        "colab": {
          "base_uri": "https://localhost:8080/"
        },
        "id": "UuyOGflw7hNR",
        "outputId": "1b2f1bea-c6d9-4a1d-b4fc-bfc76f307309"
      },
      "execution_count": 16,
      "outputs": [
        {
          "output_type": "execute_result",
          "data": {
            "text/plain": [
              "Model              0\n",
              "Price              0\n",
              "Year               0\n",
              "Transmission       0\n",
              "Body               0\n",
              "Fuel               0\n",
              "Capacity           0\n",
              "Mileage            0\n",
              "Fuel_Price         0\n",
              "USD_rate           0\n",
              "Crude_Oil_Price    0\n",
              "dtype: int64"
            ]
          },
          "metadata": {},
          "execution_count": 16
        }
      ]
    },
    {
      "cell_type": "code",
      "source": [
        "car.describe()"
      ],
      "metadata": {
        "colab": {
          "base_uri": "https://localhost:8080/",
          "height": 364
        },
        "id": "MwwYS9_W7q0l",
        "outputId": "a0dd43be-5b2d-4b1a-a08d-e9dc781e2c97"
      },
      "execution_count": 17,
      "outputs": [
        {
          "output_type": "execute_result",
          "data": {
            "text/plain": [
              "              Model         Price          Year  Transmission          Body  \\\n",
              "count  16302.000000  1.630200e+04  16302.000000  16302.000000  16302.000000   \n",
              "mean      48.977855  1.021067e+07   2011.375843      0.341799      1.166605   \n",
              "std       44.051567  1.182727e+07      7.932643      0.618087      0.802177   \n",
              "min        0.000000  9.900000e+02   1960.000000      0.000000      0.000000   \n",
              "25%       15.000000  3.790000e+06   2008.000000      0.000000      0.000000   \n",
              "50%       32.000000  6.300000e+06   2014.000000      0.000000      1.000000   \n",
              "75%       74.000000  1.175000e+07   2017.000000      1.000000      2.000000   \n",
              "max      167.000000  1.790000e+08   2021.000000      2.000000      2.000000   \n",
              "\n",
              "               Fuel      Capacity        Mileage    Fuel_Price      USD_rate  \\\n",
              "count  16302.000000  16302.000000   16302.000000  16302.000000  16302.000000   \n",
              "mean       0.426389   1537.829223   85403.610232    319.246534    296.274288   \n",
              "std        0.717983    749.891666   61969.720030    132.117396     71.366235   \n",
              "min        0.000000      2.000000       0.000000    121.000000    200.910000   \n",
              "25%        0.000000   1000.000000   41000.000000    177.000000    202.830000   \n",
              "50%        0.000000   1500.000000   75000.000000    254.000000    325.080000   \n",
              "75%        1.000000   1970.000000  120000.000000    450.000000    359.920000   \n",
              "max        2.000000  10000.000000  956384.000000    470.000000    369.030000   \n",
              "\n",
              "       Crude_Oil_Price  \n",
              "count     16302.000000  \n",
              "mean      28681.307329  \n",
              "std        8186.927842  \n",
              "min       16200.151100  \n",
              "25%       18111.783700  \n",
              "50%       32322.635200  \n",
              "75%       36133.776000  \n",
              "max       41187.015400  "
            ],
            "text/html": [
              "\n",
              "  <div id=\"df-da8c6ed2-3d38-4aa0-825a-7d6d787e1c7d\">\n",
              "    <div class=\"colab-df-container\">\n",
              "      <div>\n",
              "<style scoped>\n",
              "    .dataframe tbody tr th:only-of-type {\n",
              "        vertical-align: middle;\n",
              "    }\n",
              "\n",
              "    .dataframe tbody tr th {\n",
              "        vertical-align: top;\n",
              "    }\n",
              "\n",
              "    .dataframe thead th {\n",
              "        text-align: right;\n",
              "    }\n",
              "</style>\n",
              "<table border=\"1\" class=\"dataframe\">\n",
              "  <thead>\n",
              "    <tr style=\"text-align: right;\">\n",
              "      <th></th>\n",
              "      <th>Model</th>\n",
              "      <th>Price</th>\n",
              "      <th>Year</th>\n",
              "      <th>Transmission</th>\n",
              "      <th>Body</th>\n",
              "      <th>Fuel</th>\n",
              "      <th>Capacity</th>\n",
              "      <th>Mileage</th>\n",
              "      <th>Fuel_Price</th>\n",
              "      <th>USD_rate</th>\n",
              "      <th>Crude_Oil_Price</th>\n",
              "    </tr>\n",
              "  </thead>\n",
              "  <tbody>\n",
              "    <tr>\n",
              "      <th>count</th>\n",
              "      <td>16302.000000</td>\n",
              "      <td>1.630200e+04</td>\n",
              "      <td>16302.000000</td>\n",
              "      <td>16302.000000</td>\n",
              "      <td>16302.000000</td>\n",
              "      <td>16302.000000</td>\n",
              "      <td>16302.000000</td>\n",
              "      <td>16302.000000</td>\n",
              "      <td>16302.000000</td>\n",
              "      <td>16302.000000</td>\n",
              "      <td>16302.000000</td>\n",
              "    </tr>\n",
              "    <tr>\n",
              "      <th>mean</th>\n",
              "      <td>48.977855</td>\n",
              "      <td>1.021067e+07</td>\n",
              "      <td>2011.375843</td>\n",
              "      <td>0.341799</td>\n",
              "      <td>1.166605</td>\n",
              "      <td>0.426389</td>\n",
              "      <td>1537.829223</td>\n",
              "      <td>85403.610232</td>\n",
              "      <td>319.246534</td>\n",
              "      <td>296.274288</td>\n",
              "      <td>28681.307329</td>\n",
              "    </tr>\n",
              "    <tr>\n",
              "      <th>std</th>\n",
              "      <td>44.051567</td>\n",
              "      <td>1.182727e+07</td>\n",
              "      <td>7.932643</td>\n",
              "      <td>0.618087</td>\n",
              "      <td>0.802177</td>\n",
              "      <td>0.717983</td>\n",
              "      <td>749.891666</td>\n",
              "      <td>61969.720030</td>\n",
              "      <td>132.117396</td>\n",
              "      <td>71.366235</td>\n",
              "      <td>8186.927842</td>\n",
              "    </tr>\n",
              "    <tr>\n",
              "      <th>min</th>\n",
              "      <td>0.000000</td>\n",
              "      <td>9.900000e+02</td>\n",
              "      <td>1960.000000</td>\n",
              "      <td>0.000000</td>\n",
              "      <td>0.000000</td>\n",
              "      <td>0.000000</td>\n",
              "      <td>2.000000</td>\n",
              "      <td>0.000000</td>\n",
              "      <td>121.000000</td>\n",
              "      <td>200.910000</td>\n",
              "      <td>16200.151100</td>\n",
              "    </tr>\n",
              "    <tr>\n",
              "      <th>25%</th>\n",
              "      <td>15.000000</td>\n",
              "      <td>3.790000e+06</td>\n",
              "      <td>2008.000000</td>\n",
              "      <td>0.000000</td>\n",
              "      <td>0.000000</td>\n",
              "      <td>0.000000</td>\n",
              "      <td>1000.000000</td>\n",
              "      <td>41000.000000</td>\n",
              "      <td>177.000000</td>\n",
              "      <td>202.830000</td>\n",
              "      <td>18111.783700</td>\n",
              "    </tr>\n",
              "    <tr>\n",
              "      <th>50%</th>\n",
              "      <td>32.000000</td>\n",
              "      <td>6.300000e+06</td>\n",
              "      <td>2014.000000</td>\n",
              "      <td>0.000000</td>\n",
              "      <td>1.000000</td>\n",
              "      <td>0.000000</td>\n",
              "      <td>1500.000000</td>\n",
              "      <td>75000.000000</td>\n",
              "      <td>254.000000</td>\n",
              "      <td>325.080000</td>\n",
              "      <td>32322.635200</td>\n",
              "    </tr>\n",
              "    <tr>\n",
              "      <th>75%</th>\n",
              "      <td>74.000000</td>\n",
              "      <td>1.175000e+07</td>\n",
              "      <td>2017.000000</td>\n",
              "      <td>1.000000</td>\n",
              "      <td>2.000000</td>\n",
              "      <td>1.000000</td>\n",
              "      <td>1970.000000</td>\n",
              "      <td>120000.000000</td>\n",
              "      <td>450.000000</td>\n",
              "      <td>359.920000</td>\n",
              "      <td>36133.776000</td>\n",
              "    </tr>\n",
              "    <tr>\n",
              "      <th>max</th>\n",
              "      <td>167.000000</td>\n",
              "      <td>1.790000e+08</td>\n",
              "      <td>2021.000000</td>\n",
              "      <td>2.000000</td>\n",
              "      <td>2.000000</td>\n",
              "      <td>2.000000</td>\n",
              "      <td>10000.000000</td>\n",
              "      <td>956384.000000</td>\n",
              "      <td>470.000000</td>\n",
              "      <td>369.030000</td>\n",
              "      <td>41187.015400</td>\n",
              "    </tr>\n",
              "  </tbody>\n",
              "</table>\n",
              "</div>\n",
              "      <button class=\"colab-df-convert\" onclick=\"convertToInteractive('df-da8c6ed2-3d38-4aa0-825a-7d6d787e1c7d')\"\n",
              "              title=\"Convert this dataframe to an interactive table.\"\n",
              "              style=\"display:none;\">\n",
              "        \n",
              "  <svg xmlns=\"http://www.w3.org/2000/svg\" height=\"24px\"viewBox=\"0 0 24 24\"\n",
              "       width=\"24px\">\n",
              "    <path d=\"M0 0h24v24H0V0z\" fill=\"none\"/>\n",
              "    <path d=\"M18.56 5.44l.94 2.06.94-2.06 2.06-.94-2.06-.94-.94-2.06-.94 2.06-2.06.94zm-11 1L8.5 8.5l.94-2.06 2.06-.94-2.06-.94L8.5 2.5l-.94 2.06-2.06.94zm10 10l.94 2.06.94-2.06 2.06-.94-2.06-.94-.94-2.06-.94 2.06-2.06.94z\"/><path d=\"M17.41 7.96l-1.37-1.37c-.4-.4-.92-.59-1.43-.59-.52 0-1.04.2-1.43.59L10.3 9.45l-7.72 7.72c-.78.78-.78 2.05 0 2.83L4 21.41c.39.39.9.59 1.41.59.51 0 1.02-.2 1.41-.59l7.78-7.78 2.81-2.81c.8-.78.8-2.07 0-2.86zM5.41 20L4 18.59l7.72-7.72 1.47 1.35L5.41 20z\"/>\n",
              "  </svg>\n",
              "      </button>\n",
              "      \n",
              "  <style>\n",
              "    .colab-df-container {\n",
              "      display:flex;\n",
              "      flex-wrap:wrap;\n",
              "      gap: 12px;\n",
              "    }\n",
              "\n",
              "    .colab-df-convert {\n",
              "      background-color: #E8F0FE;\n",
              "      border: none;\n",
              "      border-radius: 50%;\n",
              "      cursor: pointer;\n",
              "      display: none;\n",
              "      fill: #1967D2;\n",
              "      height: 32px;\n",
              "      padding: 0 0 0 0;\n",
              "      width: 32px;\n",
              "    }\n",
              "\n",
              "    .colab-df-convert:hover {\n",
              "      background-color: #E2EBFA;\n",
              "      box-shadow: 0px 1px 2px rgba(60, 64, 67, 0.3), 0px 1px 3px 1px rgba(60, 64, 67, 0.15);\n",
              "      fill: #174EA6;\n",
              "    }\n",
              "\n",
              "    [theme=dark] .colab-df-convert {\n",
              "      background-color: #3B4455;\n",
              "      fill: #D2E3FC;\n",
              "    }\n",
              "\n",
              "    [theme=dark] .colab-df-convert:hover {\n",
              "      background-color: #434B5C;\n",
              "      box-shadow: 0px 1px 3px 1px rgba(0, 0, 0, 0.15);\n",
              "      filter: drop-shadow(0px 1px 2px rgba(0, 0, 0, 0.3));\n",
              "      fill: #FFFFFF;\n",
              "    }\n",
              "  </style>\n",
              "\n",
              "      <script>\n",
              "        const buttonEl =\n",
              "          document.querySelector('#df-da8c6ed2-3d38-4aa0-825a-7d6d787e1c7d button.colab-df-convert');\n",
              "        buttonEl.style.display =\n",
              "          google.colab.kernel.accessAllowed ? 'block' : 'none';\n",
              "\n",
              "        async function convertToInteractive(key) {\n",
              "          const element = document.querySelector('#df-da8c6ed2-3d38-4aa0-825a-7d6d787e1c7d');\n",
              "          const dataTable =\n",
              "            await google.colab.kernel.invokeFunction('convertToInteractive',\n",
              "                                                     [key], {});\n",
              "          if (!dataTable) return;\n",
              "\n",
              "          const docLinkHtml = 'Like what you see? Visit the ' +\n",
              "            '<a target=\"_blank\" href=https://colab.research.google.com/notebooks/data_table.ipynb>data table notebook</a>'\n",
              "            + ' to learn more about interactive tables.';\n",
              "          element.innerHTML = '';\n",
              "          dataTable['output_type'] = 'display_data';\n",
              "          await google.colab.output.renderOutput(dataTable, element);\n",
              "          const docLink = document.createElement('div');\n",
              "          docLink.innerHTML = docLinkHtml;\n",
              "          element.appendChild(docLink);\n",
              "        }\n",
              "      </script>\n",
              "    </div>\n",
              "  </div>\n",
              "  "
            ]
          },
          "metadata": {},
          "execution_count": 17
        }
      ]
    },
    {
      "cell_type": "markdown",
      "source": [
        "Correlation:\n",
        "\n",
        "Positive Correlation\n",
        "\n",
        "Negative Correlation"
      ],
      "metadata": {
        "id": "JMRyWnTI72Il"
      }
    },
    {
      "cell_type": "code",
      "source": [
        "correlation = car.corr()"
      ],
      "metadata": {
        "id": "SvlP_Ffs73Ia"
      },
      "execution_count": 18,
      "outputs": []
    },
    {
      "cell_type": "code",
      "source": [
        "# constructing a heatmap to understand the correlatiom\n",
        "plt.figure(figsize = (8,8))\n",
        "sns.heatmap(correlation, cbar=True, square=True, fmt='.1f',annot=True, annot_kws={'size':8}, cmap='Blues')"
      ],
      "metadata": {
        "colab": {
          "base_uri": "https://localhost:8080/",
          "height": 534
        },
        "id": "sJRZLhzw9Kjy",
        "outputId": "a90bfca9-5070-4020-ed56-af8c560ab988"
      },
      "execution_count": 19,
      "outputs": [
        {
          "output_type": "execute_result",
          "data": {
            "text/plain": [
              "<matplotlib.axes._subplots.AxesSubplot at 0x7fe07869be90>"
            ]
          },
          "metadata": {},
          "execution_count": 19
        },
        {
          "output_type": "display_data",
          "data": {
            "text/plain": [
              "<Figure size 576x576 with 2 Axes>"
            ],
            "image/png": "[encoded data removed]"
          },
          "metadata": {
            "needs_background": "light"
          }
        }
      ]
    },
    {
      "cell_type": "code",
      "source": [
        "print(correlation['Price'])"
      ],
      "metadata": {
        "colab": {
          "base_uri": "https://localhost:8080/"
        },
        "id": "u_Uvsk7b9oLa",
        "outputId": "b20de6a9-7965-4e57-858a-07d63c83c9b4"
      },
      "execution_count": 20,
      "outputs": [
        {
          "output_type": "stream",
          "name": "stdout",
          "text": [
            "Model             -0.071700\n",
            "Price              1.000000\n",
            "Year               0.331509\n",
            "Transmission       0.041916\n",
            "Body              -0.476421\n",
            "Fuel               0.176875\n",
            "Capacity           0.496134\n",
            "Mileage           -0.283145\n",
            "Fuel_Price        -0.060441\n",
            "USD_rate          -0.075790\n",
            "Crude_Oil_Price   -0.113534\n",
            "Name: Price, dtype: float64\n"
          ]
        }
      ]
    },
    {
      "cell_type": "code",
      "source": [
        "sns.distplot(car['Price'],color='green')"
      ],
      "metadata": {
        "colab": {
          "base_uri": "https://localhost:8080/",
          "height": 365
        },
        "id": "gy0GwoHc91PE",
        "outputId": "c667bad5-10d7-42e1-d8fb-fcde89238324"
      },
      "execution_count": 21,
      "outputs": [
        {
          "output_type": "stream",
          "name": "stderr",
          "text": [
            "/usr/local/lib/python3.7/dist-packages/seaborn/distributions.py:2619: FutureWarning: `distplot` is a deprecated function and will be removed in a future version. Please adapt your code to use either `displot` (a figure-level function with similar flexibility) or `histplot` (an axes-level function for histograms).\n",
            "  warnings.warn(msg, FutureWarning)\n"
          ]
        },
        {
          "output_type": "execute_result",
          "data": {
            "text/plain": [
              "<matplotlib.axes._subplots.AxesSubplot at 0x7fe073b88390>"
            ]
          },
          "metadata": {},
          "execution_count": 21
        },
        {
          "output_type": "display_data",
          "data": {
            "text/plain": [
              "<Figure size 432x288 with 1 Axes>"
            ],
            "image/png": "[encoded data removed]"
          },
          "metadata": {
            "needs_background": "light"
          }
        }
      ]
    },
    {
      "cell_type": "markdown",
      "source": [
        "Splitting the Features and Target"
      ],
      "metadata": {
        "id": "LbMsZdI4-HqN"
      }
    },
    {
      "cell_type": "code",
      "source": [
        "X = car.drop(['Price'],axis=1)\n",
        "Y = car['Price']"
      ],
      "metadata": {
        "id": "E3B6FDjB-Nte"
      },
      "execution_count": 22,
      "outputs": []
    },
    {
      "cell_type": "code",
      "source": [
        "print(X)"
      ],
      "metadata": {
        "colab": {
          "base_uri": "https://localhost:8080/"
        },
        "id": "gbyFd0QA-ZFv",
        "outputId": "2c5c9451-a396-44b4-f190-ff490d81a51a"
      },
      "execution_count": 23,
      "outputs": [
        {
          "output_type": "stream",
          "name": "stdout",
          "text": [
            "       Model  Year  Transmission  Body  Fuel  Capacity  Mileage  Fuel_Price  \\\n",
            "0          0  2011             0     0     0      2000    92000         450   \n",
            "1          1  2013             0     1     1      1800    91000         450   \n",
            "2          2  2015             1     2     0       800   110000         450   \n",
            "3          3  2016             1     2     0      1000    72000         450   \n",
            "4          4  2008             0     2     0      1000    89700         450   \n",
            "...      ...   ...           ...   ...   ...       ...      ...         ...   \n",
            "16297     30  2000             0     1     0      1500   155000         177   \n",
            "16298     83  2016             0     2     0      1000    41833         177   \n",
            "16299     15  2017             0     1     0      1500    12000         177   \n",
            "16300     11  2007             1     0     2      4200   111000         121   \n",
            "16301     20  2010             0     1     0      1499    90000         177   \n",
            "\n",
            "       USD_rate  Crude_Oil_Price  \n",
            "0        366.39       32916.4776  \n",
            "1        366.39       32916.4776  \n",
            "2        366.39       32916.4776  \n",
            "3        366.39       32916.4776  \n",
            "4        366.39       32916.4776  \n",
            "...         ...              ...  \n",
            "16297    202.91       16299.7603  \n",
            "16298    202.91       16299.7603  \n",
            "16299    202.91       16299.7603  \n",
            "16300    202.91       16299.7603  \n",
            "16301    202.91       16299.7603  \n",
            "\n",
            "[16302 rows x 10 columns]\n"
          ]
        }
      ]
    },
    {
      "cell_type": "code",
      "source": [
        "print(Y)"
      ],
      "metadata": {
        "colab": {
          "base_uri": "https://localhost:8080/"
        },
        "id": "LehyhaST-d83",
        "outputId": "83095371-7374-437c-daf9-d49b237a9949"
      },
      "execution_count": 24,
      "outputs": [
        {
          "output_type": "stream",
          "name": "stdout",
          "text": [
            "0         7900000\n",
            "1         7225000\n",
            "2         2895000\n",
            "3         2475000\n",
            "4         4850000\n",
            "           ...   \n",
            "16297     3400000\n",
            "16298     4590000\n",
            "16299    15300000\n",
            "16300    14000000\n",
            "16301     6650000\n",
            "Name: Price, Length: 16302, dtype: int64\n"
          ]
        }
      ]
    },
    {
      "cell_type": "markdown",
      "source": [
        "Splitting into Training data and Test Data"
      ],
      "metadata": {
        "id": "qMs0wbnV-zk5"
      }
    },
    {
      "cell_type": "code",
      "source": [
        "X_train, X_test, Y_train, Y_test = train_test_split(X, Y, test_size = 0.2, random_state=2)"
      ],
      "metadata": {
        "id": "wsHTJ2F8-00U"
      },
      "execution_count": 25,
      "outputs": []
    },
    {
      "cell_type": "markdown",
      "source": [
        "Model Training: Random Forest Regressor"
      ],
      "metadata": {
        "id": "Bts5fZds-62s"
      }
    },
    {
      "cell_type": "code",
      "source": [
        "regressor = RandomForestRegressor(n_estimators=100)"
      ],
      "metadata": {
        "id": "Kvgi_nf--76m"
      },
      "execution_count": 26,
      "outputs": []
    },
    {
      "cell_type": "code",
      "source": [
        "# training the model\n",
        "regressor.fit(X_train,Y_train)"
      ],
      "metadata": {
        "colab": {
          "base_uri": "https://localhost:8080/"
        },
        "id": "PPiY6a05-_Dy",
        "outputId": "10f727fd-6a92-49d0-d23c-bd98bfe59756"
      },
      "execution_count": 27,
      "outputs": [
        {
          "output_type": "execute_result",
          "data": {
            "text/plain": [
              "RandomForestRegressor()"
            ]
          },
          "metadata": {},
          "execution_count": 27
        }
      ]
    },
    {
      "cell_type": "markdown",
      "source": [
        "Model Evaluation"
      ],
      "metadata": {
        "id": "nC1RHj_d_JEz"
      }
    },
    {
      "cell_type": "code",
      "source": [
        "# prediction on Test Data\n",
        "test_data_prediction = regressor.predict(X_test)"
      ],
      "metadata": {
        "id": "f463hoe9_KCH"
      },
      "execution_count": 28,
      "outputs": []
    },
    {
      "cell_type": "code",
      "source": [
        "print(test_data_prediction)"
      ],
      "metadata": {
        "colab": {
          "base_uri": "https://localhost:8080/"
        },
        "id": "tSyLwmZM_Npm",
        "outputId": "da326011-71a5-4de8-b549-12a0723d1f4e"
      },
      "execution_count": 29,
      "outputs": [
        {
          "output_type": "stream",
          "name": "stdout",
          "text": [
            "[9386400. 3388150. 2524900. ...  758250.  845650. 7311300.]\n"
          ]
        }
      ]
    },
    {
      "cell_type": "code",
      "source": [
        "# R squared error\n",
        "error_score = metrics.r2_score(Y_test, test_data_prediction)\n",
        "print(\"R squared error : \", error_score)"
      ],
      "metadata": {
        "colab": {
          "base_uri": "https://localhost:8080/"
        },
        "id": "EG5seqMn_Qx7",
        "outputId": "77a48d6a-0c4d-41a6-c6ba-5adf4da4b89b"
      },
      "execution_count": 30,
      "outputs": [
        {
          "output_type": "stream",
          "name": "stdout",
          "text": [
            "R squared error :  0.870093509247891\n"
          ]
        }
      ]
    },
    {
      "cell_type": "code",
      "source": [
        "car.head()"
      ],
      "metadata": {
        "colab": {
          "base_uri": "https://localhost:8080/",
          "height": 206
        },
        "id": "G3qykED8Aswb",
        "outputId": "cdcc7298-0fff-4f25-ceb3-bdc6a2dcaf2f"
      },
      "execution_count": 31,
      "outputs": [
        {
          "output_type": "execute_result",
          "data": {
            "text/plain": [
              "   Model    Price  Year  Transmission  Body  Fuel  Capacity  Mileage  \\\n",
              "0      0  7900000  2011             0     0     0      2000    92000   \n",
              "1      1  7225000  2013             0     1     1      1800    91000   \n",
              "2      2  2895000  2015             1     2     0       800   110000   \n",
              "3      3  2475000  2016             1     2     0      1000    72000   \n",
              "4      4  4850000  2008             0     2     0      1000    89700   \n",
              "\n",
              "   Fuel_Price  USD_rate  Crude_Oil_Price  \n",
              "0         450    366.39       32916.4776  \n",
              "1         450    366.39       32916.4776  \n",
              "2         450    366.39       32916.4776  \n",
              "3         450    366.39       32916.4776  \n",
              "4         450    366.39       32916.4776  "
            ],
            "text/html": [
              "\n",
              "  <div id=\"df-a5b4e159-343b-440d-95c1-8b2a5594f90f\">\n",
              "    <div class=\"colab-df-container\">\n",
              "      <div>\n",
              "<style scoped>\n",
              "    .dataframe tbody tr th:only-of-type {\n",
              "        vertical-align: middle;\n",
              "    }\n",
              "\n",
              "    .dataframe tbody tr th {\n",
              "        vertical-align: top;\n",
              "    }\n",
              "\n",
              "    .dataframe thead th {\n",
              "        text-align: right;\n",
              "    }\n",
              "</style>\n",
              "<table border=\"1\" class=\"dataframe\">\n",
              "  <thead>\n",
              "    <tr style=\"text-align: right;\">\n",
              "      <th></th>\n",
              "      <th>Model</th>\n",
              "      <th>Price</th>\n",
              "      <th>Year</th>\n",
              "      <th>Transmission</th>\n",
              "      <th>Body</th>\n",
              "      <th>Fuel</th>\n",
              "      <th>Capacity</th>\n",
              "      <th>Mileage</th>\n",
              "      <th>Fuel_Price</th>\n",
              "      <th>USD_rate</th>\n",
              "      <th>Crude_Oil_Price</th>\n",
              "    </tr>\n",
              "  </thead>\n",
              "  <tbody>\n",
              "    <tr>\n",
              "      <th>0</th>\n",
              "      <td>0</td>\n",
              "      <td>7900000</td>\n",
              "      <td>2011</td>\n",
              "      <td>0</td>\n",
              "      <td>0</td>\n",
              "      <td>0</td>\n",
              "      <td>2000</td>\n",
              "      <td>92000</td>\n",
              "      <td>450</td>\n",
              "      <td>366.39</td>\n",
              "      <td>32916.4776</td>\n",
              "    </tr>\n",
              "    <tr>\n",
              "      <th>1</th>\n",
              "      <td>1</td>\n",
              "      <td>7225000</td>\n",
              "      <td>2013</td>\n",
              "      <td>0</td>\n",
              "      <td>1</td>\n",
              "      <td>1</td>\n",
              "      <td>1800</td>\n",
              "      <td>91000</td>\n",
              "      <td>450</td>\n",
              "      <td>366.39</td>\n",
              "      <td>32916.4776</td>\n",
              "    </tr>\n",
              "    <tr>\n",
              "      <th>2</th>\n",
              "      <td>2</td>\n",
              "      <td>2895000</td>\n",
              "      <td>2015</td>\n",
              "      <td>1</td>\n",
              "      <td>2</td>\n",
              "      <td>0</td>\n",
              "      <td>800</td>\n",
              "      <td>110000</td>\n",
              "      <td>450</td>\n",
              "      <td>366.39</td>\n",
              "      <td>32916.4776</td>\n",
              "    </tr>\n",
              "    <tr>\n",
              "      <th>3</th>\n",
              "      <td>3</td>\n",
              "      <td>2475000</td>\n",
              "      <td>2016</td>\n",
              "      <td>1</td>\n",
              "      <td>2</td>\n",
              "      <td>0</td>\n",
              "      <td>1000</td>\n",
              "      <td>72000</td>\n",
              "      <td>450</td>\n",
              "      <td>366.39</td>\n",
              "      <td>32916.4776</td>\n",
              "    </tr>\n",
              "    <tr>\n",
              "      <th>4</th>\n",
              "      <td>4</td>\n",
              "      <td>4850000</td>\n",
              "      <td>2008</td>\n",
              "      <td>0</td>\n",
              "      <td>2</td>\n",
              "      <td>0</td>\n",
              "      <td>1000</td>\n",
              "      <td>89700</td>\n",
              "      <td>450</td>\n",
              "      <td>366.39</td>\n",
              "      <td>32916.4776</td>\n",
              "    </tr>\n",
              "  </tbody>\n",
              "</table>\n",
              "</div>\n",
              "      <button class=\"colab-df-convert\" onclick=\"convertToInteractive('df-a5b4e159-343b-440d-95c1-8b2a5594f90f')\"\n",
              "              title=\"Convert this dataframe to an interactive table.\"\n",
              "              style=\"display:none;\">\n",
              "        \n",
              "  <svg xmlns=\"http://www.w3.org/2000/svg\" height=\"24px\"viewBox=\"0 0 24 24\"\n",
              "       width=\"24px\">\n",
              "    <path d=\"M0 0h24v24H0V0z\" fill=\"none\"/>\n",
              "    <path d=\"M18.56 5.44l.94 2.06.94-2.06 2.06-.94-2.06-.94-.94-2.06-.94 2.06-2.06.94zm-11 1L8.5 8.5l.94-2.06 2.06-.94-2.06-.94L8.5 2.5l-.94 2.06-2.06.94zm10 10l.94 2.06.94-2.06 2.06-.94-2.06-.94-.94-2.06-.94 2.06-2.06.94z\"/><path d=\"M17.41 7.96l-1.37-1.37c-.4-.4-.92-.59-1.43-.59-.52 0-1.04.2-1.43.59L10.3 9.45l-7.72 7.72c-.78.78-.78 2.05 0 2.83L4 21.41c.39.39.9.59 1.41.59.51 0 1.02-.2 1.41-.59l7.78-7.78 2.81-2.81c.8-.78.8-2.07 0-2.86zM5.41 20L4 18.59l7.72-7.72 1.47 1.35L5.41 20z\"/>\n",
              "  </svg>\n",
              "      </button>\n",
              "      \n",
              "  <style>\n",
              "    .colab-df-container {\n",
              "      display:flex;\n",
              "      flex-wrap:wrap;\n",
              "      gap: 12px;\n",
              "    }\n",
              "\n",
              "    .colab-df-convert {\n",
              "      background-color: #E8F0FE;\n",
              "      border: none;\n",
              "      border-radius: 50%;\n",
              "      cursor: pointer;\n",
              "      display: none;\n",
              "      fill: #1967D2;\n",
              "      height: 32px;\n",
              "      padding: 0 0 0 0;\n",
              "      width: 32px;\n",
              "    }\n",
              "\n",
              "    .colab-df-convert:hover {\n",
              "      background-color: #E2EBFA;\n",
              "      box-shadow: 0px 1px 2px rgba(60, 64, 67, 0.3), 0px 1px 3px 1px rgba(60, 64, 67, 0.15);\n",
              "      fill: #174EA6;\n",
              "    }\n",
              "\n",
              "    [theme=dark] .colab-df-convert {\n",
              "      background-color: #3B4455;\n",
              "      fill: #D2E3FC;\n",
              "    }\n",
              "\n",
              "    [theme=dark] .colab-df-convert:hover {\n",
              "      background-color: #434B5C;\n",
              "      box-shadow: 0px 1px 3px 1px rgba(0, 0, 0, 0.15);\n",
              "      filter: drop-shadow(0px 1px 2px rgba(0, 0, 0, 0.3));\n",
              "      fill: #FFFFFF;\n",
              "    }\n",
              "  </style>\n",
              "\n",
              "      <script>\n",
              "        const buttonEl =\n",
              "          document.querySelector('#df-a5b4e159-343b-440d-95c1-8b2a5594f90f button.colab-df-convert');\n",
              "        buttonEl.style.display =\n",
              "          google.colab.kernel.accessAllowed ? 'block' : 'none';\n",
              "\n",
              "        async function convertToInteractive(key) {\n",
              "          const element = document.querySelector('#df-a5b4e159-343b-440d-95c1-8b2a5594f90f');\n",
              "          const dataTable =\n",
              "            await google.colab.kernel.invokeFunction('convertToInteractive',\n",
              "                                                     [key], {});\n",
              "          if (!dataTable) return;\n",
              "\n",
              "          const docLinkHtml = 'Like what you see? Visit the ' +\n",
              "            '<a target=\"_blank\" href=https://colab.research.google.com/notebooks/data_table.ipynb>data table notebook</a>'\n",
              "            + ' to learn more about interactive tables.';\n",
              "          element.innerHTML = '';\n",
              "          dataTable['output_type'] = 'display_data';\n",
              "          await google.colab.output.renderOutput(dataTable, element);\n",
              "          const docLink = document.createElement('div');\n",
              "          docLink.innerHTML = docLinkHtml;\n",
              "          element.appendChild(docLink);\n",
              "        }\n",
              "      </script>\n",
              "    </div>\n",
              "  </div>\n",
              "  "
            ]
          },
          "metadata": {},
          "execution_count": 31
        }
      ]
    },
    {
      "cell_type": "markdown",
      "source": [
        "Compare the Actual Values and Predicted Values in a Plot"
      ],
      "metadata": {
        "id": "u1PvfCF0_hA0"
      }
    },
    {
      "cell_type": "code",
      "source": [
        "Y_test = list(Y_test)"
      ],
      "metadata": {
        "id": "NTi8QXr5_iDt"
      },
      "execution_count": 32,
      "outputs": []
    },
    {
      "cell_type": "code",
      "source": [
        "plt.plot(Y_test, color='blue', label = 'Actual Price')\n",
        "plt.plot(test_data_prediction, color='green', label='Predicted Price')\n",
        "plt.title('Actual Price vs Predicted Price')\n",
        "plt.xlabel('Number of values')\n",
        "plt.ylabel('Price')\n",
        "plt.legend()\n",
        "plt.show()"
      ],
      "metadata": {
        "colab": {
          "base_uri": "https://localhost:8080/",
          "height": 295
        },
        "id": "pqRMKsge_mR_",
        "outputId": "d415889d-10a9-44a7-ddbc-d1fcee841b97"
      },
      "execution_count": 33,
      "outputs": [
        {
          "output_type": "display_data",
          "data": {
            "text/plain": [
              "<Figure size 432x288 with 1 Axes>"
            ],
            "image/png": "[encoded data removed]"
          },
          "metadata": {
            "needs_background": "light"
          }
        }
      ]
    },
    {
      "cell_type": "code",
      "source": [
        "import pickle"
      ],
      "metadata": {
        "id": "ySesy4FzAX5w"
      },
      "execution_count": 34,
      "outputs": []
    },
    {
      "cell_type": "code",
      "source": [
        "pickle.dump(regressor, open('/content/randomf.pkl', 'wb'))"
      ],
      "metadata": {
        "id": "Fk89JvZTAerJ"
      },
      "execution_count": 35,
      "outputs": []
    }
  ]
}